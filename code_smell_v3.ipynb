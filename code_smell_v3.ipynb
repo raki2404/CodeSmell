{
 "cells": [
  {
   "cell_type": "code",
   "execution_count": 24,
   "metadata": {},
   "outputs": [],
   "source": [
    "import os\n",
    "from dotenv import load_dotenv\n",
    "import google.generativeai as genai\n",
    "import pandas as pd\n",
    "\n",
    "load_dotenv()\n",
    "\n",
    "GOOGLE_API_KEY = os.getenv(\"GOOGLE_API_KEY\")\n",
    "genai.configure(api_key=GOOGLE_API_KEY)\n",
    "model = genai.GenerativeModel('gemini-1.5-flash')"
   ]
  },
  {
   "cell_type": "code",
   "execution_count": 25,
   "metadata": {},
   "outputs": [],
   "source": [
    "data = pd.read_csv('dataset.csv').head(10)\n",
    "\n",
    "results = []\n",
    "\n",
    "for index, row in data.iterrows():\n",
    "    code_snippet = row['code']\n",
    "\n",
    "    prompt = f\"\"\"\n",
    "    Classify the following Python code as '0' for clean or '1' for code smell based on the following criteria. Be strict so that atleast 40 percent of code is smelly:\n",
    "    1. High levels of nesting in conditional statements or loops.\n",
    "    2. Code repetition or duplicated logic.\n",
    "    3. Long functions that do too many things.\n",
    "    4. Lack of clear variable and function names.\n",
    "    5. Any other factors that make the code hard to understand, maintain, or extend.\n",
    "\n",
    "    Please return just '0' or '1'. The code is:\n",
    "\n",
    "    {code_snippet}\n",
    "    \"\"\"\n",
    "\n",
    "    response = model.generate_content(prompt)\n",
    "    result = response.text.strip()\n",
    "    results.append(result)\n",
    "\n",
    "data['classification'] = results"
   ]
  },
  {
   "cell_type": "code",
   "execution_count": 26,
   "metadata": {},
   "outputs": [
    {
     "data": {
      "text/html": [
       "<div>\n",
       "<style scoped>\n",
       "    .dataframe tbody tr th:only-of-type {\n",
       "        vertical-align: middle;\n",
       "    }\n",
       "\n",
       "    .dataframe tbody tr th {\n",
       "        vertical-align: top;\n",
       "    }\n",
       "\n",
       "    .dataframe thead th {\n",
       "        text-align: right;\n",
       "    }\n",
       "</style>\n",
       "<table border=\"1\" class=\"dataframe\">\n",
       "  <thead>\n",
       "    <tr style=\"text-align: right;\">\n",
       "      <th></th>\n",
       "      <th>code</th>\n",
       "      <th>classification</th>\n",
       "    </tr>\n",
       "  </thead>\n",
       "  <tbody>\n",
       "    <tr>\n",
       "      <th>0</th>\n",
       "      <td>n, m = map(int,input().split())\\ncount = 0\\nl ...</td>\n",
       "      <td>1</td>\n",
       "    </tr>\n",
       "    <tr>\n",
       "      <th>1</th>\n",
       "      <td>MOD=10**9+7\\nUPPERLIMIT=2*10**5\\nMODMUL=[1, 1]...</td>\n",
       "      <td>1</td>\n",
       "    </tr>\n",
       "    <tr>\n",
       "      <th>2</th>\n",
       "      <td>T,X=map(int,input().split())\\nres = T/X\\nprint...</td>\n",
       "      <td>0</td>\n",
       "    </tr>\n",
       "    <tr>\n",
       "      <th>3</th>\n",
       "      <td>def is_prime(n):\\n  if n == 2: return True\\n  ...</td>\n",
       "      <td>0</td>\n",
       "    </tr>\n",
       "    <tr>\n",
       "      <th>4</th>\n",
       "      <td>a = input()\\na = 48 - a\\nprint a</td>\n",
       "      <td>0</td>\n",
       "    </tr>\n",
       "    <tr>\n",
       "      <th>5</th>\n",
       "      <td>n, k = map(int, input().split())\\n\\ndef cul(x)...</td>\n",
       "      <td>1</td>\n",
       "    </tr>\n",
       "    <tr>\n",
       "      <th>6</th>\n",
       "      <td>a = list(map(int, input().split()))\\ncount = 0...</td>\n",
       "      <td>1</td>\n",
       "    </tr>\n",
       "    <tr>\n",
       "      <th>7</th>\n",
       "      <td># -*- coding: utf-8 -*-\\n\\n\\ndef main():\\n    ...</td>\n",
       "      <td>0</td>\n",
       "    </tr>\n",
       "    <tr>\n",
       "      <th>8</th>\n",
       "      <td>def dfs(parent, connect, passed, N): #深さ優先探索\\n...</td>\n",
       "      <td>0</td>\n",
       "    </tr>\n",
       "    <tr>\n",
       "      <th>9</th>\n",
       "      <td>import math\\narr = input().split( )\\na = int(a...</td>\n",
       "      <td>0</td>\n",
       "    </tr>\n",
       "  </tbody>\n",
       "</table>\n",
       "</div>"
      ],
      "text/plain": [
       "                                                code classification\n",
       "0  n, m = map(int,input().split())\\ncount = 0\\nl ...              1\n",
       "1  MOD=10**9+7\\nUPPERLIMIT=2*10**5\\nMODMUL=[1, 1]...              1\n",
       "2  T,X=map(int,input().split())\\nres = T/X\\nprint...              0\n",
       "3  def is_prime(n):\\n  if n == 2: return True\\n  ...              0\n",
       "4                   a = input()\\na = 48 - a\\nprint a              0\n",
       "5  n, k = map(int, input().split())\\n\\ndef cul(x)...              1\n",
       "6  a = list(map(int, input().split()))\\ncount = 0...              1\n",
       "7  # -*- coding: utf-8 -*-\\n\\n\\ndef main():\\n    ...              0\n",
       "8  def dfs(parent, connect, passed, N): #深さ優先探索\\n...              0\n",
       "9  import math\\narr = input().split( )\\na = int(a...              0"
      ]
     },
     "execution_count": 26,
     "metadata": {},
     "output_type": "execute_result"
    }
   ],
   "source": [
    "data"
   ]
  },
  {
   "cell_type": "code",
   "execution_count": 27,
   "metadata": {},
   "outputs": [],
   "source": [
    "data.to_csv('dataset_labeled.csv', index=False)"
   ]
  },
  {
   "cell_type": "code",
   "execution_count": null,
   "metadata": {},
   "outputs": [],
   "source": []
  }
 ],
 "metadata": {
  "kernelspec": {
   "display_name": ".venv",
   "language": "python",
   "name": "python3"
  },
  "language_info": {
   "codemirror_mode": {
    "name": "ipython",
    "version": 3
   },
   "file_extension": ".py",
   "mimetype": "text/x-python",
   "name": "python",
   "nbconvert_exporter": "python",
   "pygments_lexer": "ipython3",
   "version": "3.12.8"
  }
 },
 "nbformat": 4,
 "nbformat_minor": 2
}
